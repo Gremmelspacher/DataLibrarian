{
 "cells": [
  {
   "cell_type": "code",
   "execution_count": 9,
   "id": "717db3f3-7214-4fc3-aed4-d1fd1d0474a1",
   "metadata": {},
   "outputs": [],
   "source": [
    "import pandas as pd"
   ]
  },
  {
   "cell_type": "code",
   "execution_count": 10,
   "id": "3409a201-11ae-496a-b852-4c651cbd0bd4",
   "metadata": {},
   "outputs": [
    {
     "name": "stderr",
     "output_type": "stream",
     "text": [
      "C:\\Users\\tg\\AppData\\Local\\Temp\\ipykernel_9060\\1850111476.py:1: DtypeWarning: Columns (10) have mixed types. Specify dtype option on import or set low_memory=False.\n",
      "  df = pd.read_csv(r'C:\\Users\\tg\\Desktop\\DataLibrarian\\Modul3_Data\\Library_Usage.csv')\n"
     ]
    }
   ],
   "source": [
    "df = pd.read_csv(r'C:\\Users\\tg\\Desktop\\DataLibrarian\\Modul3_Data\\Library_Usage.csv')"
   ]
  },
  {
   "cell_type": "code",
   "execution_count": 11,
   "id": "8919ce85-491f-43b5-84d0-2bd522341db9",
   "metadata": {},
   "outputs": [
    {
     "name": "stdout",
     "output_type": "stream",
     "text": [
      "<class 'pandas.core.frame.DataFrame'>\n",
      "RangeIndex: 450359 entries, 0 to 450358\n",
      "Data columns (total 11 columns):\n",
      " #   Column                        Non-Null Count   Dtype \n",
      "---  ------                        --------------   ----- \n",
      " 0   Patron Type Definition        450359 non-null  object\n",
      " 1   Total Checkouts               450359 non-null  int64 \n",
      " 2   Total Renewals                450359 non-null  int64 \n",
      " 3   Age Range                     450359 non-null  object\n",
      " 4   Home Library Definition       450359 non-null  object\n",
      " 5   Circulation Active Month      450359 non-null  object\n",
      " 6   Circulation Active Year       450359 non-null  object\n",
      " 7   Notice Preference Definition  450359 non-null  object\n",
      " 8   Provided Email Address        450359 non-null  bool  \n",
      " 9   Year Patron Registered        450359 non-null  int64 \n",
      " 10  Within San Francisco County   450359 non-null  object\n",
      "dtypes: bool(1), int64(3), object(7)\n",
      "memory usage: 34.8+ MB\n"
     ]
    }
   ],
   "source": [
    "df.info()"
   ]
  },
  {
   "cell_type": "code",
   "execution_count": null,
   "id": "b638d472-861f-449c-876e-128808e1655b",
   "metadata": {},
   "outputs": [],
   "source": []
  }
 ],
 "metadata": {
  "kernelspec": {
   "display_name": "Python 3 (ipykernel)",
   "language": "python",
   "name": "python3"
  },
  "language_info": {
   "codemirror_mode": {
    "name": "ipython",
    "version": 3
   },
   "file_extension": ".py",
   "mimetype": "text/x-python",
   "name": "python",
   "nbconvert_exporter": "python",
   "pygments_lexer": "ipython3",
   "version": "3.12.8"
  }
 },
 "nbformat": 4,
 "nbformat_minor": 5
}
