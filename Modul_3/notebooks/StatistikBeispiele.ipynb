{
 "cells": [
  {
   "cell_type": "code",
   "execution_count": 12,
   "id": "be36e912-8482-4a3a-ad98-e8a531ee6e9c",
   "metadata": {},
   "outputs": [
    {
     "data": {
      "text/plain": [
       "Year Patron Registered\n",
       "2023    59742\n",
       "2022    51798\n",
       "2003    40049\n",
       "2021    32731\n",
       "2019    32652\n",
       "2020    29665\n",
       "2017    29055\n",
       "2018    28345\n",
       "2016    21671\n",
       "2015    19710\n",
       "2014    15275\n",
       "2013    12948\n",
       "2012    12430\n",
       "2011    12088\n",
       "2009    11070\n",
       "2010    10972\n",
       "2008     9775\n",
       "2007     6320\n",
       "2006     5090\n",
       "2005     4622\n",
       "2004     4351\n",
       "Name: count, dtype: int64"
      ]
     },
     "execution_count": 12,
     "metadata": {},
     "output_type": "execute_result"
    }
   ],
   "source": [
    "# Absolute Häufigkeiten\n",
    "import pandas as pd\n",
    "df = pd.read_csv('../data/Library_Usage.csv',na_values=\"Null\",\n",
    "                 low_memory=False\n",
    "                )\n",
    "df['Year Patron Registered'].value_counts()"
   ]
  },
  {
   "cell_type": "code",
   "execution_count": 14,
   "id": "4cd75c85-601c-417d-8e4c-69c37346e18e",
   "metadata": {},
   "outputs": [
    {
     "name": "stdout",
     "output_type": "stream",
     "text": [
      "Age Range\n",
      "25 to 34 years       0.211800\n",
      "35 to 44 years       0.190439\n",
      "10 to 19 years       0.150624\n",
      "45 to 54 years       0.110748\n",
      "0 to 9 years         0.073758\n",
      "65 to 74 years       0.072146\n",
      "20 to 24 years       0.060342\n",
      "75 years and over    0.046062\n",
      "55 to 59 years       0.043870\n",
      "60 to 64 years       0.040209\n",
      "Name: proportion, dtype: float64\n",
      "\n",
      "Summe aller Häufigkeiten =  1.0\n",
      "\n"
     ]
    }
   ],
   "source": [
    "# Relative Häufigkeiten\n",
    "import pandas as pd\n",
    "df = pd.read_csv('../data/Library_Usage.csv',na_values=\"Null\",\n",
    "                 low_memory=False)\n",
    "a = df['Age Range'].value_counts(normalize=True)\n",
    "print(a)\n",
    "print()\n",
    "print(\"Summe aller Häufigkeiten = \", sum(a))\n",
    "print()"
   ]
  },
  {
   "cell_type": "code",
   "execution_count": 11,
   "id": "f0933820-b322-4deb-a2bc-0428a75307b4",
   "metadata": {},
   "outputs": [
    {
     "data": {
      "text/plain": [
       "np.int64(2023)"
      ]
     },
     "execution_count": 11,
     "metadata": {},
     "output_type": "execute_result"
    }
   ],
   "source": [
    "# Modus\n",
    "\n",
    "import pandas as pd\n",
    "df = pd.read_csv('../data/Library_Usage.csv',na_values=\"Null\",\n",
    "                 low_memory=False)\n",
    "age_mode = df['Year Patron Registered'].mode()\n",
    "age_mode[0]"
   ]
  },
  {
   "cell_type": "code",
   "execution_count": 15,
   "id": "1f4b52b5-5e8b-4304-b112-6ddd91a67554",
   "metadata": {},
   "outputs": [
    {
     "data": {
      "text/plain": [
       "np.float64(155.218052709061)"
      ]
     },
     "execution_count": 15,
     "metadata": {},
     "output_type": "execute_result"
    }
   ],
   "source": [
    "# Mittelwert\n",
    "import pandas as pd\n",
    "df = pd.read_csv(\"../data/Library_Usage.csv\",low_memory=False)\n",
    "df['Total Checkouts'].mean()"
   ]
  },
  {
   "cell_type": "code",
   "execution_count": 16,
   "id": "da5c0ba4-d3f8-4931-bed5-c73ea71e7708",
   "metadata": {},
   "outputs": [
    {
     "data": {
      "text/plain": [
       "np.float64(7.0)"
      ]
     },
     "execution_count": 16,
     "metadata": {},
     "output_type": "execute_result"
    }
   ],
   "source": [
    "# Median\n",
    "import pandas as pd\n",
    "df = pd.read_csv(\"../data/Library_Usage.csv\",low_memory=False)\n",
    "df['Total Checkouts'].median()"
   ]
  },
  {
   "cell_type": "code",
   "execution_count": 22,
   "id": "4ce6a092-1566-47ee-9a38-8f50e4fc62e3",
   "metadata": {},
   "outputs": [
    {
     "name": "stdout",
     "output_type": "stream",
     "text": [
      "0.25     0.0\n",
      "0.50     7.0\n",
      "0.75    74.0\n",
      "Name: Total Checkouts, dtype: float64\n",
      "\n",
      "0.005       0.0\n",
      "0.995    3255.0\n",
      "Name: Total Checkouts, dtype: float64\n"
     ]
    }
   ],
   "source": [
    "# Quantile\n",
    "import pandas as pd\n",
    "df = pd.read_csv(\"../data/Library_Usage.csv\",low_memory=False)\n",
    "a = df['Total Checkouts'].quantile(q=[0.25, 0.5, 0.75])\n",
    "print(a)\n",
    "print()\n",
    "\n",
    "# identifies 0.5% of the data at both ends of the distribution\n",
    "alpha = 0.005\n",
    "b = df['Total Checkouts'].quantile([alpha, 1-alpha])\n",
    "print(b)"
   ]
  },
  {
   "cell_type": "code",
   "execution_count": 25,
   "id": "b314c254-cba2-43de-ba0e-ab0cf72cd623",
   "metadata": {},
   "outputs": [
    {
     "name": "stdout",
     "output_type": "stream",
     "text": [
      "276931.2396333315\n",
      "\n",
      "526.242567295094\n"
     ]
    }
   ],
   "source": [
    "# Varianz\n",
    "import pandas as pd\n",
    "df = pd.read_csv(\"../data/Library_Usage.csv\",low_memory=False)\n",
    "v = df['Total Checkouts'].var()\n",
    "print(v)\n",
    "print()\n",
    "std = df['Total Checkouts'].std()\n",
    "print(std)"
   ]
  },
  {
   "cell_type": "code",
   "execution_count": 26,
   "id": "da552088-20fe-4ae9-b26b-c7fde9b03046",
   "metadata": {},
   "outputs": [
    {
     "data": {
      "text/plain": [
       "np.int64(39743)"
      ]
     },
     "execution_count": 26,
     "metadata": {},
     "output_type": "execute_result"
    }
   ],
   "source": [
    "# Spannweite\n",
    "import pandas as pd\n",
    "df = pd.read_csv(\"../data/Library_Usage.csv\",low_memory=False)\n",
    "df['Total Checkouts'].max() - df['Total Checkouts'].min()"
   ]
  },
  {
   "cell_type": "code",
   "execution_count": 27,
   "id": "71143649-68d4-4bbc-b459-2cfefe8ac2ad",
   "metadata": {},
   "outputs": [
    {
     "data": {
      "text/plain": [
       "np.float64(74.0)"
      ]
     },
     "execution_count": 27,
     "metadata": {},
     "output_type": "execute_result"
    }
   ],
   "source": [
    "# Interquartilsabstand\n",
    "import pandas as pd\n",
    "df = pd.read_csv(\"../data/Library_Usage.csv\",low_memory=False)\n",
    "df['Total Checkouts'].quantile(q=0.75) - df['Total Checkouts'].quantile(q=0.25)"
   ]
  },
  {
   "cell_type": "code",
   "execution_count": 33,
   "id": "1630a0d4-6e8b-41a0-8c13-0d3608e2f64f",
   "metadata": {},
   "outputs": [
    {
     "data": {
      "image/png": "[encoded data removed]",
      "text/plain": [
       "<Figure size 640x480 with 1 Axes>"
      ]
     },
     "metadata": {},
     "output_type": "display_data"
    }
   ],
   "source": [
    "# Verteilung Ausleihen\n",
    "import pandas as pd\n",
    "import seaborn as sns\n",
    "import matplotlib.pyplot as plt\n",
    "%matplotlib inline\n",
    "sns.set_theme()\n",
    "\n",
    "df = pd.read_csv(\"../data/Library_Usage.csv\", dtype={\"Total Checkouts\": str}, low_memory=False)\n",
    "df['Total Checkouts'] = pd.to_numeric(df['Total Checkouts'], errors='coerce')\n",
    "sns.histplot(df['Total Checkouts'], kde=False)\n",
    "plt.show()"
   ]
  },
  {
   "cell_type": "code",
   "execution_count": 36,
   "id": "8c340cce-cdc4-4ba2-b768-aa8e82df8e34",
   "metadata": {},
   "outputs": [
    {
     "data": {
      "image/png": "[encoded data removed]",
      "text/plain": [
       "<Figure size 640x480 with 1 Axes>"
      ]
     },
     "metadata": {},
     "output_type": "display_data"
    }
   ],
   "source": [
    "# ChatGPT Verteilung Ausleihen\n",
    "import pandas as pd\n",
    "import seaborn as sns\n",
    "import matplotlib.pyplot as plt\n",
    "\n",
    "sns.set_theme()\n",
    "\n",
    "df = pd.read_csv(\"../data/Library_Usage.csv\", low_memory=False)\n",
    "\n",
    "# Falls \"Total Checkouts\" Text enthält, konvertieren wir es in Zahlen\n",
    "df['Total Checkouts'] = pd.to_numeric(df['Total Checkouts'], errors='coerce')\n",
    "\n",
    "sns.histplot(df['Total Checkouts'], kde=False)\n",
    "plt.show()"
   ]
  },
  {
   "cell_type": "code",
   "execution_count": 37,
   "id": "af16e008-fbda-4415-81fc-c1479177f504",
   "metadata": {},
   "outputs": [
    {
     "data": {
      "text/html": [
       "<div>\n",
       "<style scoped>\n",
       "    .dataframe tbody tr th:only-of-type {\n",
       "        vertical-align: middle;\n",
       "    }\n",
       "\n",
       "    .dataframe tbody tr th {\n",
       "        vertical-align: top;\n",
       "    }\n",
       "\n",
       "    .dataframe thead th {\n",
       "        text-align: right;\n",
       "    }\n",
       "</style>\n",
       "<table border=\"1\" class=\"dataframe\">\n",
       "  <thead>\n",
       "    <tr style=\"text-align: right;\">\n",
       "      <th>Age Range</th>\n",
       "      <th>0 to 9 years</th>\n",
       "      <th>10 to 19 years</th>\n",
       "      <th>20 to 24 years</th>\n",
       "      <th>25 to 34 years</th>\n",
       "      <th>35 to 44 years</th>\n",
       "      <th>45 to 54 years</th>\n",
       "      <th>55 to 59 years</th>\n",
       "      <th>60 to 64 years</th>\n",
       "      <th>65 to 74 years</th>\n",
       "      <th>75 years and over</th>\n",
       "      <th>All</th>\n",
       "    </tr>\n",
       "    <tr>\n",
       "      <th>Notice Preference Definition</th>\n",
       "      <th></th>\n",
       "      <th></th>\n",
       "      <th></th>\n",
       "      <th></th>\n",
       "      <th></th>\n",
       "      <th></th>\n",
       "      <th></th>\n",
       "      <th></th>\n",
       "      <th></th>\n",
       "      <th></th>\n",
       "      <th></th>\n",
       "    </tr>\n",
       "  </thead>\n",
       "  <tbody>\n",
       "    <tr>\n",
       "      <th>Email</th>\n",
       "      <td>30075</td>\n",
       "      <td>56115</td>\n",
       "      <td>24544</td>\n",
       "      <td>90890</td>\n",
       "      <td>81600</td>\n",
       "      <td>46797</td>\n",
       "      <td>18086</td>\n",
       "      <td>16091</td>\n",
       "      <td>27987</td>\n",
       "      <td>16437</td>\n",
       "      <td>408622</td>\n",
       "    </tr>\n",
       "    <tr>\n",
       "      <th>Phone</th>\n",
       "      <td>1580</td>\n",
       "      <td>10494</td>\n",
       "      <td>2150</td>\n",
       "      <td>2675</td>\n",
       "      <td>2452</td>\n",
       "      <td>2122</td>\n",
       "      <td>1261</td>\n",
       "      <td>1577</td>\n",
       "      <td>3700</td>\n",
       "      <td>3676</td>\n",
       "      <td>31687</td>\n",
       "    </tr>\n",
       "    <tr>\n",
       "      <th>Print</th>\n",
       "      <td>1030</td>\n",
       "      <td>628</td>\n",
       "      <td>263</td>\n",
       "      <td>1000</td>\n",
       "      <td>968</td>\n",
       "      <td>596</td>\n",
       "      <td>279</td>\n",
       "      <td>299</td>\n",
       "      <td>627</td>\n",
       "      <td>542</td>\n",
       "      <td>6232</td>\n",
       "    </tr>\n",
       "    <tr>\n",
       "      <th>All</th>\n",
       "      <td>32685</td>\n",
       "      <td>67237</td>\n",
       "      <td>26957</td>\n",
       "      <td>94565</td>\n",
       "      <td>85020</td>\n",
       "      <td>49515</td>\n",
       "      <td>19626</td>\n",
       "      <td>17967</td>\n",
       "      <td>32314</td>\n",
       "      <td>20655</td>\n",
       "      <td>446541</td>\n",
       "    </tr>\n",
       "  </tbody>\n",
       "</table>\n",
       "</div>"
      ],
      "text/plain": [
       "Age Range                     0 to 9 years  10 to 19 years  20 to 24 years  \\\n",
       "Notice Preference Definition                                                 \n",
       "Email                                30075           56115           24544   \n",
       "Phone                                 1580           10494            2150   \n",
       "Print                                 1030             628             263   \n",
       "All                                  32685           67237           26957   \n",
       "\n",
       "Age Range                     25 to 34 years  35 to 44 years  45 to 54 years  \\\n",
       "Notice Preference Definition                                                   \n",
       "Email                                  90890           81600           46797   \n",
       "Phone                                   2675            2452            2122   \n",
       "Print                                   1000             968             596   \n",
       "All                                    94565           85020           49515   \n",
       "\n",
       "Age Range                     55 to 59 years  60 to 64 years  65 to 74 years  \\\n",
       "Notice Preference Definition                                                   \n",
       "Email                                  18086           16091           27987   \n",
       "Phone                                   1261            1577            3700   \n",
       "Print                                    279             299             627   \n",
       "All                                    19626           17967           32314   \n",
       "\n",
       "Age Range                     75 years and over     All  \n",
       "Notice Preference Definition                             \n",
       "Email                                     16437  408622  \n",
       "Phone                                      3676   31687  \n",
       "Print                                       542    6232  \n",
       "All                                       20655  446541  "
      ]
     },
     "execution_count": 37,
     "metadata": {},
     "output_type": "execute_result"
    }
   ],
   "source": [
    "# Kreuztabellen\n",
    "import pandas as pd\n",
    "\n",
    "df = pd.read_csv(\n",
    "    \"../data/Library_Usage.csv\", \n",
    "    low_memory=False,\n",
    "    na_values=\"Null\"\n",
    ")\n",
    "pd.crosstab(\n",
    "    df['Notice Preference Definition'],\n",
    "    df['Age Range'],\n",
    "    margins=True\n",
    ")"
   ]
  },
  {
   "cell_type": "code",
   "execution_count": 39,
   "id": "24f983d8-3b86-48ca-9a68-7d115fa09eda",
   "metadata": {},
   "outputs": [
    {
     "data": {
      "text/html": [
       "<div>\n",
       "<style scoped>\n",
       "    .dataframe tbody tr th:only-of-type {\n",
       "        vertical-align: middle;\n",
       "    }\n",
       "\n",
       "    .dataframe tbody tr th {\n",
       "        vertical-align: top;\n",
       "    }\n",
       "\n",
       "    .dataframe thead th {\n",
       "        text-align: right;\n",
       "    }\n",
       "</style>\n",
       "<table border=\"1\" class=\"dataframe\">\n",
       "  <thead>\n",
       "    <tr style=\"text-align: right;\">\n",
       "      <th>Age Range</th>\n",
       "      <th>0 to 9 years</th>\n",
       "      <th>10 to 19 years</th>\n",
       "      <th>20 to 24 years</th>\n",
       "      <th>25 to 34 years</th>\n",
       "      <th>35 to 44 years</th>\n",
       "      <th>45 to 54 years</th>\n",
       "      <th>55 to 59 years</th>\n",
       "      <th>60 to 64 years</th>\n",
       "      <th>65 to 74 years</th>\n",
       "      <th>75 years and over</th>\n",
       "    </tr>\n",
       "    <tr>\n",
       "      <th>Notice Preference Definition</th>\n",
       "      <th></th>\n",
       "      <th></th>\n",
       "      <th></th>\n",
       "      <th></th>\n",
       "      <th></th>\n",
       "      <th></th>\n",
       "      <th></th>\n",
       "      <th></th>\n",
       "      <th></th>\n",
       "      <th></th>\n",
       "    </tr>\n",
       "  </thead>\n",
       "  <tbody>\n",
       "    <tr>\n",
       "      <th>Email</th>\n",
       "      <td>0.073601</td>\n",
       "      <td>0.137327</td>\n",
       "      <td>0.060065</td>\n",
       "      <td>0.222431</td>\n",
       "      <td>0.199696</td>\n",
       "      <td>0.114524</td>\n",
       "      <td>0.044261</td>\n",
       "      <td>0.039379</td>\n",
       "      <td>0.068491</td>\n",
       "      <td>0.040225</td>\n",
       "    </tr>\n",
       "    <tr>\n",
       "      <th>Phone</th>\n",
       "      <td>0.049863</td>\n",
       "      <td>0.331177</td>\n",
       "      <td>0.067851</td>\n",
       "      <td>0.084419</td>\n",
       "      <td>0.077382</td>\n",
       "      <td>0.066968</td>\n",
       "      <td>0.039795</td>\n",
       "      <td>0.049768</td>\n",
       "      <td>0.116767</td>\n",
       "      <td>0.116010</td>\n",
       "    </tr>\n",
       "    <tr>\n",
       "      <th>Print</th>\n",
       "      <td>0.165276</td>\n",
       "      <td>0.100770</td>\n",
       "      <td>0.042202</td>\n",
       "      <td>0.160462</td>\n",
       "      <td>0.155327</td>\n",
       "      <td>0.095635</td>\n",
       "      <td>0.044769</td>\n",
       "      <td>0.047978</td>\n",
       "      <td>0.100610</td>\n",
       "      <td>0.086970</td>\n",
       "    </tr>\n",
       "    <tr>\n",
       "      <th>All</th>\n",
       "      <td>0.073196</td>\n",
       "      <td>0.150573</td>\n",
       "      <td>0.060368</td>\n",
       "      <td>0.211772</td>\n",
       "      <td>0.190397</td>\n",
       "      <td>0.110886</td>\n",
       "      <td>0.043951</td>\n",
       "      <td>0.040236</td>\n",
       "      <td>0.072365</td>\n",
       "      <td>0.046256</td>\n",
       "    </tr>\n",
       "  </tbody>\n",
       "</table>\n",
       "</div>"
      ],
      "text/plain": [
       "Age Range                     0 to 9 years  10 to 19 years  20 to 24 years  \\\n",
       "Notice Preference Definition                                                 \n",
       "Email                             0.073601        0.137327        0.060065   \n",
       "Phone                             0.049863        0.331177        0.067851   \n",
       "Print                             0.165276        0.100770        0.042202   \n",
       "All                               0.073196        0.150573        0.060368   \n",
       "\n",
       "Age Range                     25 to 34 years  35 to 44 years  45 to 54 years  \\\n",
       "Notice Preference Definition                                                   \n",
       "Email                               0.222431        0.199696        0.114524   \n",
       "Phone                               0.084419        0.077382        0.066968   \n",
       "Print                               0.160462        0.155327        0.095635   \n",
       "All                                 0.211772        0.190397        0.110886   \n",
       "\n",
       "Age Range                     55 to 59 years  60 to 64 years  65 to 74 years  \\\n",
       "Notice Preference Definition                                                   \n",
       "Email                               0.044261        0.039379        0.068491   \n",
       "Phone                               0.039795        0.049768        0.116767   \n",
       "Print                               0.044769        0.047978        0.100610   \n",
       "All                                 0.043951        0.040236        0.072365   \n",
       "\n",
       "Age Range                     75 years and over  \n",
       "Notice Preference Definition                     \n",
       "Email                                  0.040225  \n",
       "Phone                                  0.116010  \n",
       "Print                                  0.086970  \n",
       "All                                    0.046256  "
      ]
     },
     "execution_count": 39,
     "metadata": {},
     "output_type": "execute_result"
    }
   ],
   "source": [
    "# Normalisierung\n",
    "import pandas as pd\n",
    "\n",
    "df = pd.read_csv(\n",
    "    \"../data/Library_Usage.csv\", \n",
    "    low_memory=False,\n",
    "    na_values=\"Null\"\n",
    ")\n",
    "pd.crosstab(\n",
    "    df['Notice Preference Definition'],\n",
    "    df['Age Range'],\n",
    "    margins=True, normalize=0\n",
    ")"
   ]
  },
  {
   "cell_type": "code",
   "execution_count": 40,
   "id": "5a2abd1f-e1fa-4d2b-a0c7-0abb36953903",
   "metadata": {},
   "outputs": [
    {
     "name": "stderr",
     "output_type": "stream",
     "text": [
      "C:\\Users\\tg\\AppData\\Local\\Temp\\ipykernel_9988\\2316581453.py:4: DtypeWarning: Columns (10) have mixed types. Specify dtype option on import or set low_memory=False.\n",
      "  df = pd.read_csv(\"../data/Library_Usage.csv\")\n"
     ]
    },
    {
     "data": {
      "text/plain": [
       "np.float64(0.6421628513121922)"
      ]
     },
     "execution_count": 40,
     "metadata": {},
     "output_type": "execute_result"
    }
   ],
   "source": [
    "# Korrelation\n",
    "import pandas as pd\n",
    "\n",
    "df = pd.read_csv(\"../data/Library_Usage.csv\")\n",
    "df['Total Checkouts'].corr(df['Total Renewals'])"
   ]
  },
  {
   "cell_type": "code",
   "execution_count": null,
   "id": "028ec0e7-495a-4975-a78a-deda756d81b4",
   "metadata": {},
   "outputs": [],
   "source": []
  }
 ],
 "metadata": {
  "kernelspec": {
   "display_name": "Python 3 (ipykernel)",
   "language": "python",
   "name": "python3"
  },
  "language_info": {
   "codemirror_mode": {
    "name": "ipython",
    "version": 3
   },
   "file_extension": ".py",
   "mimetype": "text/x-python",
   "name": "python",
   "nbconvert_exporter": "python",
   "pygments_lexer": "ipython3",
   "version": "3.12.8"
  }
 },
 "nbformat": 4,
 "nbformat_minor": 5
}
